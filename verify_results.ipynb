{
 "cells": [
  {
   "cell_type": "code",
   "execution_count": 1,
   "metadata": {},
   "outputs": [],
   "source": [
    "from RAG_BASIC.utils.utils import load_structure"
   ]
  },
  {
   "cell_type": "code",
   "execution_count": 2,
   "metadata": {},
   "outputs": [
    {
     "name": "stdout",
     "output_type": "stream",
     "text": [
      "loaded data structure\n"
     ]
    },
    {
     "data": {
      "text/plain": [
       "['No hay objetivo del Código Orgánico de la Producción, Comercio e Inversiones mencionado en la información proporcionada. El texto no contiene referencia a un objetivo o propósito general para el código.',\n",
       " 'Según el COPCI, no se define explícitamente qué se considera como actividad productiva. Sin embargo, se puede inferir que se refiere a \"actividades productivas y de servicios\" socialmente deseables y ambientalmente aceptables (punto i) y que busca \"incentivar y regular todas las formas de inversión privada en actividades productivas\" (punto h).',\n",
       " 'No hay información disponible.',\n",
       " 'No hay información disponible sobre los derechos de los inversionistas en el COPCI, ya que la información proporcionada no contiene datos relevantes para esta pregunta.',\n",
       " 'No hay información disponible sobre la definición de \"inversión productiva\" en el COPCI, ya que no se presenta en la información proporcionada.',\n",
       " 'No se establecen incentivos fiscales generales en el COPCI. Se mencionan beneficios fiscales específicos para proyectos públicos ejecutados en asociación público-privada y para zonas deprimidas, pero no hay información sobre incentivos fiscales generales.',\n",
       " 'No hay información disponible.',\n",
       " 'No hay información disponible sobre el Consejo Sectorial de la Producción según el COPCI, ya que esta información no se encuentra en el texto proporcionado.',\n",
       " 'La inversión se clasifica como \"inversión productiva\" según el Artículo 13 del COPCI (Código Organico de la Producción, Comercio e Inversiones).',\n",
       " 'No hay información disponible.']"
      ]
     },
     "execution_count": 2,
     "metadata": {},
     "output_type": "execute_result"
    }
   ],
   "source": [
    "load_structure('./test_responses/llama3.pkl.gz')"
   ]
  },
  {
   "cell_type": "code",
   "execution_count": 3,
   "metadata": {},
   "outputs": [
    {
     "name": "stdout",
     "output_type": "stream",
     "text": [
      "loaded data structure\n"
     ]
    },
    {
     "data": {
      "text/plain": [
       "['El objetivo del Código Orgánico de la Producción, Comercio e Inversiones es regular y organizar el desarrollo económico de Ecuador.',\n",
       " 'Las actividades productivas son aquellas que se encuentran registradas en una Bolsa de Valores, cumplen con el protocolo para el cumplimiento de ética empresarial definida por el Estado y los requisitos previstos en el Reglamento al Código de la Producción, Comercio e Inversiones.',\n",
       " 'Los trabajadores que prestarán servicios a empresas registradas en una Bolsa de Valores y cumplen con el protocolo para el cumplimiento de ética empresarial definida por el Estado.',\n",
       " 'Los inversionistas pueden canjear sus cupones por certificados de aportación CORPEI para fines de restitución, dentro de un plazo de 2 años. Luego, tienen 10 años para pagar los certificados emitidos.',\n",
       " 'No hay información disponible sobre la definición de \"inversión productiva\" en el COPCI. La información proporcionada se refiere a aspectos como la creación del Comité Interministerial de la Calidad, incentivos fiscales para inversiones productivas y otras políticas relacionadas con la producción y comercio.',\n",
       " 'Las exenciones al impuesto a la renta, al impuesto a la salida de divisas, a los tributos al comercio exterior y más beneficios previstos en la Ley de Régimen Tributario Interno para proyectos públicos ejecutados en asociación público-privada.',\n",
       " 'No hay información disponible sobre el salario digno según el COPCI.',\n",
       " 'No hay información disponible sobre la función del Consejo Sectorial de la Producción según el COPCI.',\n",
       " 'Inversión productiva.',\n",
       " 'La estabilidad tributaria establecida por el COPCI se limitará para efectos de impuesto a la renta, sobre todas las normas que permiten determinar la base imponible y la cuantía del tributo a pagar, vigentes a la fecha de suscripción del contrato de inversión. Sin embargo, no aplicará sobre normas referentes a facultades, procedimientos, métodos y deberes formales que la administración tributaria emplee y establezca para el control y el ejercicio de sus competencias. \\n\\nAdemás, la estabilidad tributaria podrá hacerse extensiva al impuesto a la salida de divisas y otros impuestos directos nacionales, exclusivamente respecto de las tarifas y exenciones de cada impuesto, vigentes a la fecha de suscripción del contrato de inversión. \\n\\nEn cuanto a la transformación de la matriz productiva, el COPCI establece que la estabilidad tributaria podrá hacerse extensiva al impuesto a la salida de divisas y otros impuestos directos nacionales, exclusivamente respecto de las tarifas y exenciones de cada impuesto, vigentes a la fecha de suscripción del contrato de inversión, así como respecto de inversiones que contribuyan al cambio de la matriz productiva del país.']"
      ]
     },
     "execution_count": 3,
     "metadata": {},
     "output_type": "execute_result"
    }
   ],
   "source": [
    "load_structure('./test_responses/llama31.pkl.gz')"
   ]
  },
  {
   "cell_type": "code",
   "execution_count": 6,
   "metadata": {},
   "outputs": [
    {
     "name": "stdout",
     "output_type": "stream",
     "text": [
      "loaded data structure\n"
     ]
    },
    {
     "data": {
      "text/plain": [
       "[' El objetivo del Código Orgánico de la Producción, Comercio e Inversiones es regular las actividades relacionadas con el comercio internacional y inversión, promover el crecimiento económico, mejorar la calidad aduanera y facilitar las operaciones comerciales en Ecuador.',\n",
       " ' La actividad productiva según el Código Ordenador de Producción, Comercio e Inversiones (COPCI) se considera cualquier forma de trabajo o empresa que genere valor y utilice recursos materiales, humanos o financieros para la generación de bienes y servicios. No hay un artículo específico en el COPCI con una definición amplia como tal; sin embargo, los códigos mencionados establecen estándares para actividades económicas y calidad de producto que indirectamente reflejan la naturaleza productiva de las empresas.',\n",
       " ' Los sujetos a la normativa del Código de la Producción, Comercio e Inversiones (COPCI) incluyen Operadores Económicos Autorizados y las personas físicas o jurídicas involucradas en actividades relacionadas con proyectos software o tecnología si sus inversiones son mayores a un año.',\n",
       " ' Según el Código Orgánico de la Producción, Comercio e Inversiones (COPCI), se reconocen derechos a los inversionistas relacionados con:\\n\\n1. Acceso a incentivos y facilidades aduaneras.\\n2. Protección contra incumplimiento doloso por parte del Estado o autoridad competente.\\n3. Derecho de pago interbancario en el Sistema de Pagos Interbancarios (SPI) para exportadores.',\n",
       " ' La definición de \"inversión productiva\" en el COPCI es un espacio zonificado con potencialidad para el desarrollo, capaz de atraer inversión y generar reinversión nacional o extranjera que genere clima de negocios impulsando desarrollo sostenible y productividad.',\n",
       " ' El COPCI establece incentivos fiscales como formalidades simplificadas de despacho por aduana, acceso a beneficios generales e incentivos incluyendo exenciones al impuesto a la renta y tributos al comercio exterior para proyectos públicos ejecutados en asociación público-privada.',\n",
       " ' Según el Código de Protección Social del Ecuador (COPCI), el \"salario digno\" se define como aquel salario mínimo que debe pagarse a los trabajadores, que garantice una vida económicamente estable y digna. Está determinado por la Comisión Nacional de Promoción y Defensa de los Derechos del Trabajador (CONAPRODER), tomando en cuenta factores como el costo de vida, necesidades básicas, y el nivel socioeconómico regional e interregional. Este salario digno busca garantizar un mínimo estándar que permita a los trabajadores cubrir sus gastos esenciales, contribuyendo así al desarrollo humano y económico del país.',\n",
       " ' La información proporcionada no incluye detalles sobre el Consejo Sectorial de la Producción según el Código Orgánico de la Producción, Comercio e Inversiones (COPCI). Por lo tanto, no puedo ofrecer una respuesta directa basada en esa fuente.',\n",
       " ' La inversión según su origen en el Código Orgánico de la Producción, Comercio e Inversiones (COPCI) se clasifica como obligación aduanera o aduanal cuando proviene de operaciones activas de perfeccionamiento de importación y exportación, así como para los productos originarios que cumplan con las normas de origen establecidas para su comercio.',\n",
       " ' El Código Orgánico de la Producción, Comercio e Inversiones (COPCI) establece mecanismos como el Comité Interministerial de la Calidad y el Sistema Ecuatoriano de la Calidad para la transformación de la matriz productiva. Esto implica una coordinación y articulación estatal hacia políticas de calidad que contribuyen a mejorar la competitividad en los sectores primario y secundario, así como el fortalecimiento de las regulaciones y normativas para evitar daños o pérdidas relacionadas con mercancías.']"
      ]
     },
     "execution_count": 6,
     "metadata": {},
     "output_type": "execute_result"
    }
   ],
   "source": [
    "load_structure('./test_responses/phi3.pkl.gz')"
   ]
  },
  {
   "cell_type": "code",
   "execution_count": null,
   "metadata": {},
   "outputs": [],
   "source": []
  }
 ],
 "metadata": {
  "kernelspec": {
   "display_name": "base",
   "language": "python",
   "name": "python3"
  },
  "language_info": {
   "codemirror_mode": {
    "name": "ipython",
    "version": 3
   },
   "file_extension": ".py",
   "mimetype": "text/x-python",
   "name": "python",
   "nbconvert_exporter": "python",
   "pygments_lexer": "ipython3",
   "version": "3.11.7"
  }
 },
 "nbformat": 4,
 "nbformat_minor": 2
}
